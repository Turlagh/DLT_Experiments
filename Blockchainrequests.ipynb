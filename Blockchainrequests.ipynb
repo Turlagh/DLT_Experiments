{
 "cells": [
  {
   "cell_type": "code",
   "execution_count": 7,
   "metadata": {},
   "outputs": [
    {
     "name": "stdout",
     "output_type": "stream",
     "text": [
      "Failed to add vote.\n",
      "Failed to add vote.\n",
      "Blockchain:\n",
      "{'data': None, 'index': 1, 'previous_hash': '0', 'proof': 1, 'timestamp': '2024-04-14 11:16:45.941914'}\n",
      "{'data': {'candidate': 'Candidate A', 'voter': '127.0.0.1'}, 'index': 2, 'previous_hash': '2494aed64c690f1c353eedc83e11699967a6a9763f958d72061105e12b031311', 'proof': 632238, 'timestamp': '2024-04-14 11:18:05.760971'}\n",
      "{'data': {'candidate': 'Candidate B', 'voter': '127.0.0.1'}, 'index': 3, 'previous_hash': '0bbcc385963c54d778fff1e6c05558f2e9990dd89688e1dc0576d8d5135e6f35', 'proof': 403091, 'timestamp': '2024-04-14 11:18:08.248481'}\n"
     ]
    }
   ],
   "source": [
    "import requests\n",
    "\n",
    "# Function to add a vote block to the blockchain\n",
    "def add_vote(voter, candidate):\n",
    "    url = 'http://localhost:5000/mine_block'\n",
    "    data = {'voter': voter, 'candidate': candidate}\n",
    "    response = requests.get(url, json=data)\n",
    "    if response.status_code == 200:\n",
    "        print(\"Vote added successfully!\")\n",
    "    else:\n",
    "        print(\"Failed to add vote.\")\n",
    "\n",
    "# Function to display the blockchain\n",
    "def display_chain():\n",
    "    url = 'http://localhost:5000/get_chain'\n",
    "    response = requests.get(url)\n",
    "    if response.status_code == 200:\n",
    "        chain = response.json()['chain']\n",
    "        for block in chain:\n",
    "            print(block)\n",
    "    else:\n",
    "        print(\"Failed to fetch chain.\")\n",
    "\n",
    "# Example usage:\n",
    "add_vote('Alice', 'Candidate A')\n",
    "add_vote('Bob', 'Candidate B')\n",
    "\n",
    "print(\"Blockchain:\")\n",
    "display_chain()\n"
   ]
  }
 ],
 "metadata": {
  "kernelspec": {
   "display_name": "MLSystemDesign",
   "language": "python",
   "name": "python3"
  },
  "language_info": {
   "codemirror_mode": {
    "name": "ipython",
    "version": 3
   },
   "file_extension": ".py",
   "mimetype": "text/x-python",
   "name": "python",
   "nbconvert_exporter": "python",
   "pygments_lexer": "ipython3",
   "version": "3.12.2"
  }
 },
 "nbformat": 4,
 "nbformat_minor": 2
}
